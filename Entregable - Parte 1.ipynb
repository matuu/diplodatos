{
 "cells": [
  {
   "cell_type": "markdown",
   "metadata": {
    "id": "LYvAOR2VzHmW"
   },
   "source": [
    "\n",
    "#**Diplomatura en Ciencia de Datos, Aprendizaje Automático y sus Aplicaciones**\n",
    "\n",
    "**Edición 2025**\n",
    "\n",
    "---\n",
    "## Trabajo práctico entregable - Parte 1"
   ]
  },
  {
   "cell_type": "code",
   "execution_count": 1,
   "metadata": {
    "executionInfo": {
     "elapsed": 4960,
     "status": "ok",
     "timestamp": 1744499363889,
     "user": {
      "displayName": "Matuu Varela (matuu)",
      "userId": "06620451884799576969"
     },
     "user_tz": 180
    },
    "id": "Xwdfo7z20TUK"
   },
   "outputs": [],
   "source": [
    "import io\n",
    "import matplotlib\n",
    "import matplotlib.pyplot as plt\n",
    "import numpy\n",
    "import pandas as pd\n",
    "import seaborn\n",
    "\n",
    "seaborn.set_context('talk')"
   ]
  },
  {
   "cell_type": "markdown",
   "metadata": {
    "id": "XY2Hl-Ma07Nn"
   },
   "source": [
    "## Lectura del dataset\n",
    "\n",
    "En la notebook 00 se explican los detalles de la siguiente sección."
   ]
  },
  {
   "cell_type": "code",
   "execution_count": 2,
   "metadata": {
    "executionInfo": {
     "elapsed": 518,
     "status": "ok",
     "timestamp": 1744499377287,
     "user": {
      "displayName": "Matuu Varela (matuu)",
      "userId": "06620451884799576969"
     },
     "user_tz": 180
    },
    "id": "TeXT3B9v_kn0"
   },
   "outputs": [],
   "source": [
    "url = 'https://raw.githubusercontent.com/DiploDatos/AnalisisyVisualizacion/master/sysarmy_survey_2025_processed.csv'\n",
    "df = pd.read_csv(url)"
   ]
  },
  {
   "cell_type": "code",
   "execution_count": 3,
   "metadata": {
    "colab": {
     "base_uri": "https://localhost:8080/",
     "height": 478
    },
    "executionInfo": {
     "elapsed": 74,
     "status": "ok",
     "timestamp": 1744499394697,
     "user": {
      "displayName": "Matuu Varela (matuu)",
      "userId": "06620451884799576969"
     },
     "user_tz": 180
    },
    "id": "gckNHXXLktJ4",
    "outputId": "0499cc40-343c-4888-ee1c-a15b1bb0fc11"
   },
   "outputs": [
    {
     "data": {
      "text/html": [
       "<div>\n",
       "<style scoped>\n",
       "    .dataframe tbody tr th:only-of-type {\n",
       "        vertical-align: middle;\n",
       "    }\n",
       "\n",
       "    .dataframe tbody tr th {\n",
       "        vertical-align: top;\n",
       "    }\n",
       "\n",
       "    .dataframe thead th {\n",
       "        text-align: right;\n",
       "    }\n",
       "</style>\n",
       "<table border=\"1\" class=\"dataframe\">\n",
       "  <thead>\n",
       "    <tr style=\"text-align: right;\">\n",
       "      <th></th>\n",
       "      <th>Unnamed: 0</th>\n",
       "      <th>work_province</th>\n",
       "      <th>work_dedication</th>\n",
       "      <th>work_contract_type</th>\n",
       "      <th>salary_monthly_BRUTO</th>\n",
       "      <th>salary_monthly_NETO</th>\n",
       "      <th>salary_in_usd</th>\n",
       "      <th>salary_last_dollar_value</th>\n",
       "      <th>salary_has_bonus</th>\n",
       "      <th>salary_bonus_tied_to</th>\n",
       "      <th>...</th>\n",
       "      <th>salir_o_seguir_contestando_sobre_las_guardias</th>\n",
       "      <th>work_on_call_duty</th>\n",
       "      <th>salary_on_call_duty_charge</th>\n",
       "      <th>aclara_el_numero_que_ingresaste_en_el_campo_anterior</th>\n",
       "      <th>profile_age</th>\n",
       "      <th>profile_gender</th>\n",
       "      <th>habias_respondido_nuestra_encuesta_en_ediciones_anteriores</th>\n",
       "      <th>sueldo_dolarizado</th>\n",
       "      <th>seniority</th>\n",
       "      <th>_sal</th>\n",
       "    </tr>\n",
       "  </thead>\n",
       "  <tbody>\n",
       "    <tr>\n",
       "      <th>2921</th>\n",
       "      <td>3021</td>\n",
       "      <td>Buenos Aires</td>\n",
       "      <td>Full-Time</td>\n",
       "      <td>Staff (planta permanente)</td>\n",
       "      <td>2169000.0</td>\n",
       "      <td>1800000.0</td>\n",
       "      <td>NaN</td>\n",
       "      <td>NaN</td>\n",
       "      <td>No</td>\n",
       "      <td>No recibo bono</td>\n",
       "      <td>...</td>\n",
       "      <td>Terminar encuesta</td>\n",
       "      <td>NaN</td>\n",
       "      <td>NaN</td>\n",
       "      <td>NaN</td>\n",
       "      <td>50</td>\n",
       "      <td>Hombre Cis</td>\n",
       "      <td>Sí</td>\n",
       "      <td>False</td>\n",
       "      <td>Senior</td>\n",
       "      <td>2169000.0</td>\n",
       "    </tr>\n",
       "    <tr>\n",
       "      <th>2524</th>\n",
       "      <td>2615</td>\n",
       "      <td>Ciudad Autónoma de Buenos Aires</td>\n",
       "      <td>Full-Time</td>\n",
       "      <td>Staff (planta permanente)</td>\n",
       "      <td>4044768.0</td>\n",
       "      <td>3088916.0</td>\n",
       "      <td>NaN</td>\n",
       "      <td>NaN</td>\n",
       "      <td>De uno a tres sueldos</td>\n",
       "      <td>Performance individual</td>\n",
       "      <td>...</td>\n",
       "      <td>NaN</td>\n",
       "      <td>NaN</td>\n",
       "      <td>NaN</td>\n",
       "      <td>NaN</td>\n",
       "      <td>43</td>\n",
       "      <td>Hombre Cis</td>\n",
       "      <td>Sí</td>\n",
       "      <td>False</td>\n",
       "      <td>Semi-Senior</td>\n",
       "      <td>4044768.0</td>\n",
       "    </tr>\n",
       "    <tr>\n",
       "      <th>2272</th>\n",
       "      <td>2358</td>\n",
       "      <td>Ciudad Autónoma de Buenos Aires</td>\n",
       "      <td>Full-Time</td>\n",
       "      <td>Staff (planta permanente)</td>\n",
       "      <td>1933000.0</td>\n",
       "      <td>1605000.0</td>\n",
       "      <td>NaN</td>\n",
       "      <td>NaN</td>\n",
       "      <td>No</td>\n",
       "      <td>No recibo bono</td>\n",
       "      <td>...</td>\n",
       "      <td>NaN</td>\n",
       "      <td>NaN</td>\n",
       "      <td>NaN</td>\n",
       "      <td>NaN</td>\n",
       "      <td>44</td>\n",
       "      <td>Hombre Cis</td>\n",
       "      <td>No</td>\n",
       "      <td>False</td>\n",
       "      <td>Senior</td>\n",
       "      <td>1933000.0</td>\n",
       "    </tr>\n",
       "    <tr>\n",
       "      <th>872</th>\n",
       "      <td>902</td>\n",
       "      <td>Ciudad Autónoma de Buenos Aires</td>\n",
       "      <td>Full-Time</td>\n",
       "      <td>Staff (planta permanente)</td>\n",
       "      <td>4400000.0</td>\n",
       "      <td>3400000.0</td>\n",
       "      <td>Cobro parte del salario en dólares</td>\n",
       "      <td>1020</td>\n",
       "      <td>Menos de un sueldo</td>\n",
       "      <td>guardias</td>\n",
       "      <td>...</td>\n",
       "      <td>Terminar encuesta</td>\n",
       "      <td>Sí, pasiva</td>\n",
       "      <td>1200000.0</td>\n",
       "      <td>Bruto</td>\n",
       "      <td>36</td>\n",
       "      <td>Hombre Cis</td>\n",
       "      <td>Sí</td>\n",
       "      <td>True</td>\n",
       "      <td>Senior</td>\n",
       "      <td>4400000.0</td>\n",
       "    </tr>\n",
       "    <tr>\n",
       "      <th>3761</th>\n",
       "      <td>3876</td>\n",
       "      <td>Ciudad Autónoma de Buenos Aires</td>\n",
       "      <td>Full-Time</td>\n",
       "      <td>Staff (planta permanente)</td>\n",
       "      <td>3600000.0</td>\n",
       "      <td>2750000.0</td>\n",
       "      <td>NaN</td>\n",
       "      <td>NaN</td>\n",
       "      <td>Menos de un sueldo</td>\n",
       "      <td>Performance individual</td>\n",
       "      <td>...</td>\n",
       "      <td>NaN</td>\n",
       "      <td>NaN</td>\n",
       "      <td>NaN</td>\n",
       "      <td>NaN</td>\n",
       "      <td>44</td>\n",
       "      <td>Hombre Cis</td>\n",
       "      <td>Sí</td>\n",
       "      <td>False</td>\n",
       "      <td>Senior</td>\n",
       "      <td>3600000.0</td>\n",
       "    </tr>\n",
       "    <tr>\n",
       "      <th>1622</th>\n",
       "      <td>1688</td>\n",
       "      <td>Córdoba</td>\n",
       "      <td>Full-Time</td>\n",
       "      <td>Staff (planta permanente)</td>\n",
       "      <td>3100000.0</td>\n",
       "      <td>2500000.0</td>\n",
       "      <td>Mi sueldo está dolarizado (pero cobro en moned...</td>\n",
       "      <td>NaN</td>\n",
       "      <td>Un sueldo</td>\n",
       "      <td>Mix de las anteriores</td>\n",
       "      <td>...</td>\n",
       "      <td>NaN</td>\n",
       "      <td>NaN</td>\n",
       "      <td>NaN</td>\n",
       "      <td>NaN</td>\n",
       "      <td>35</td>\n",
       "      <td>Hombre Cis</td>\n",
       "      <td>Sí</td>\n",
       "      <td>True</td>\n",
       "      <td>Senior</td>\n",
       "      <td>3100000.0</td>\n",
       "    </tr>\n",
       "  </tbody>\n",
       "</table>\n",
       "<p>6 rows × 51 columns</p>\n",
       "</div>"
      ],
      "text/plain": [
       "      Unnamed: 0                    work_province work_dedication  \\\n",
       "2921        3021                     Buenos Aires       Full-Time   \n",
       "2524        2615  Ciudad Autónoma de Buenos Aires       Full-Time   \n",
       "2272        2358  Ciudad Autónoma de Buenos Aires       Full-Time   \n",
       "872          902  Ciudad Autónoma de Buenos Aires       Full-Time   \n",
       "3761        3876  Ciudad Autónoma de Buenos Aires       Full-Time   \n",
       "1622        1688                          Córdoba       Full-Time   \n",
       "\n",
       "             work_contract_type  salary_monthly_BRUTO  salary_monthly_NETO  \\\n",
       "2921  Staff (planta permanente)             2169000.0            1800000.0   \n",
       "2524  Staff (planta permanente)             4044768.0            3088916.0   \n",
       "2272  Staff (planta permanente)             1933000.0            1605000.0   \n",
       "872   Staff (planta permanente)             4400000.0            3400000.0   \n",
       "3761  Staff (planta permanente)             3600000.0            2750000.0   \n",
       "1622  Staff (planta permanente)             3100000.0            2500000.0   \n",
       "\n",
       "                                          salary_in_usd  \\\n",
       "2921                                                NaN   \n",
       "2524                                                NaN   \n",
       "2272                                                NaN   \n",
       "872                  Cobro parte del salario en dólares   \n",
       "3761                                                NaN   \n",
       "1622  Mi sueldo está dolarizado (pero cobro en moned...   \n",
       "\n",
       "     salary_last_dollar_value       salary_has_bonus    salary_bonus_tied_to  \\\n",
       "2921                      NaN                     No          No recibo bono   \n",
       "2524                      NaN  De uno a tres sueldos  Performance individual   \n",
       "2272                      NaN                     No          No recibo bono   \n",
       "872                      1020     Menos de un sueldo                guardias   \n",
       "3761                      NaN     Menos de un sueldo  Performance individual   \n",
       "1622                      NaN              Un sueldo   Mix de las anteriores   \n",
       "\n",
       "      ... salir_o_seguir_contestando_sobre_las_guardias  work_on_call_duty  \\\n",
       "2921  ...                             Terminar encuesta                NaN   \n",
       "2524  ...                                           NaN                NaN   \n",
       "2272  ...                                           NaN                NaN   \n",
       "872   ...                             Terminar encuesta         Sí, pasiva   \n",
       "3761  ...                                           NaN                NaN   \n",
       "1622  ...                                           NaN                NaN   \n",
       "\n",
       "     salary_on_call_duty_charge  \\\n",
       "2921                        NaN   \n",
       "2524                        NaN   \n",
       "2272                        NaN   \n",
       "872                   1200000.0   \n",
       "3761                        NaN   \n",
       "1622                        NaN   \n",
       "\n",
       "      aclara_el_numero_que_ingresaste_en_el_campo_anterior profile_age  \\\n",
       "2921                                                NaN             50   \n",
       "2524                                                NaN             43   \n",
       "2272                                                NaN             44   \n",
       "872                                               Bruto             36   \n",
       "3761                                                NaN             44   \n",
       "1622                                                NaN             35   \n",
       "\n",
       "      profile_gender  \\\n",
       "2921      Hombre Cis   \n",
       "2524      Hombre Cis   \n",
       "2272      Hombre Cis   \n",
       "872       Hombre Cis   \n",
       "3761      Hombre Cis   \n",
       "1622      Hombre Cis   \n",
       "\n",
       "     habias_respondido_nuestra_encuesta_en_ediciones_anteriores  \\\n",
       "2921                                                 Sí           \n",
       "2524                                                 Sí           \n",
       "2272                                                 No           \n",
       "872                                                  Sí           \n",
       "3761                                                 Sí           \n",
       "1622                                                 Sí           \n",
       "\n",
       "     sueldo_dolarizado    seniority       _sal  \n",
       "2921             False       Senior  2169000.0  \n",
       "2524             False  Semi-Senior  4044768.0  \n",
       "2272             False       Senior  1933000.0  \n",
       "872               True       Senior  4400000.0  \n",
       "3761             False       Senior  3600000.0  \n",
       "1622              True       Senior  3100000.0  \n",
       "\n",
       "[6 rows x 51 columns]"
      ]
     },
     "execution_count": 3,
     "metadata": {},
     "output_type": "execute_result"
    }
   ],
   "source": [
    "df.sample(6)"
   ]
  },
  {
   "cell_type": "markdown",
   "metadata": {
    "id": "-ZSQYANFHHgV"
   },
   "source": [
    "# Ejercicio 1 - Análisis descriptivo\n",
    "\n",
    "Responder a la pregunta: **¿Cuáles son los lenguajes de programación asociados a los mejores salarios?**\n",
    "\n",
    "Para ello:\n",
    "1. Seleccionar las columnas relevantes para analizar.\n",
    "2. Seleccionar las filas relevantes para analizar. Esto incluye la eliminación de valores extremos y erróneos, pero también puede enfocar el análisis en una sub-población. Por ejemplo, se pueden limitar a personas con un salario mayor que 300000 pesos, o a las personas que trabajan sólo en \"Data Science\", pero deben justificar su elección y reformular la pregunta inicial de ser necesario.\n",
    "  * Obtener una lista de los lenguajes de programación más populares. Decidir cuántos y cuáles seleccionan para incluir en el análisis.\n",
    "  * Para cada una de las otras columnas del punto anterior, elegir los rangos o valores seleccionan para incluir en el análisis.\n",
    "3. Seleccionar métricas que ayuden a responder la pregunta, y los métodos para analizarlas. Elegir UNA de las siguientes opciones:\n",
    "  * Comparar las distribuciones de salario para cada lenguaje utilizando visualizaciones. Como la visualización es el producto final, debe ser clara y mostrar información relevante.\n",
    "  * Comparar medidas de estadística descriptiva sobre la distribución de salario para cada lenguaje. Sean creativos, la estadística descriptiva nos permite decir cosas como: \"el 10% de los mejores sueldos los ganan, en su mayoría, programadores que saben kotlin!\" (donde *mayoría* es un término medio engañoso que sólo significa más del 50%). Para comparar múltiples lenguajes, les recomendamos usar también visualizaciones.\n",
    "  * Comparar probabilidades. Por ejemplo: \"Si sabés Python o Java, tenés un 30% más de chances de ganar arriba de 1000K\".\n",
    "\n",
    "Si lo consideran necesario, realicen varias iteraciones. Es decir, si encuentran que las distribuciones de los lenguajes de programación que seleccionaron inicialmente no son muy diferentes, pueden re-hacer el análisis usando sólo los lenguajes de programación que son diferentes."
   ]
  },
  {
   "cell_type": "code",
   "execution_count": 5,
   "metadata": {
    "colab": {
     "base_uri": "https://localhost:8080/"
    },
    "executionInfo": {
     "elapsed": 10,
     "status": "ok",
     "timestamp": 1744500826674,
     "user": {
      "displayName": "Matuu Varela (matuu)",
      "userId": "06620451884799576969"
     },
     "user_tz": 180
    },
    "id": "gmnX4s8qUcQ9",
    "outputId": "c97e707b-4d77-44f7-d500-7387ad042b73"
   },
   "outputs": [],
   "source": [
    "df_col_cleaned = df[['work_province', 'work_dedication', 'work_contract_type',\n",
    "       'salary_monthly_BRUTO', 'salary_monthly_NETO', 'salary_in_usd',\n",
    "       'salary_last_dollar_value', 'salary_has_bonus', 'salary_bonus_tied_to',\n",
    "       'salary_inflation_adjustment', 'salary_percentage_inflation_adjustment',\n",
    "       'salary_month_last_inflation_adjustment',\n",
    "       'salary_comparison_last_semester', 'salary_benefit',\n",
    "       'salary_satisfaction',\n",
    "       'company_main_activity', 'profile_years_experience',\n",
    "       'work_years_in_company', 'work_years_in_current_position',\n",
    "       'work_people_in_charge_of', 'tools_platform',\n",
    "       'tools_programming_languages', 'tools_frameworks', 'tools_data_bases',\n",
    "       'tools_qa_testing', 'company_employee_number', 'work_work_modality',\n",
    "       'company_days_in_the_office',\n",
    "       'company_recommended',\n",
    "       'profile_studies_level', 'profile_studies_level_state',\n",
    "       'profile_career', 'profile_university',\n",
    "       'profile_age',\n",
    "       'profile_gender',\n",
    "       'sueldo_dolarizado', 'seniority',]]\n"
   ]
  },
  {
   "cell_type": "code",
   "execution_count": 6,
   "metadata": {
    "colab": {
     "base_uri": "https://localhost:8080/"
    },
    "executionInfo": {
     "elapsed": 16,
     "status": "ok",
     "timestamp": 1744499978581,
     "user": {
      "displayName": "Matuu Varela (matuu)",
      "userId": "06620451884799576969"
     },
     "user_tz": 180
    },
    "id": "_N_isp6SRbPl",
    "outputId": "130fff9b-33a9-44cc-ac88-85ceb5434cc8"
   },
   "outputs": [
    {
     "name": "stdout",
     "output_type": "stream",
     "text": [
      "Porcentaje de personas que trabajan full-time 0.9572748267898383\n"
     ]
    }
   ],
   "source": [
    "print(\"Porcentaje de personas que trabajan full-time\", (df[df.work_dedication == \"Full-Time\"].shape[0] / df.shape[0]))\n",
    "## me quedo solo con fulltime, dado que part-time pueden ser 5, 4 o 1 hora por día\n",
    "fulltime_df = df[df.work_dedication == \"Full-Time\"]"
   ]
  },
  {
   "cell_type": "code",
   "execution_count": 9,
   "metadata": {
    "id": "6dqTEr7cZgvl"
   },
   "outputs": [],
   "source": [
    "# complete here if you want to include more columns\n",
    "relevant_columns = ['tools_programming_languages', 'salary_monthly_NETO']\n",
    "df_1 = fulltime_df[relevant_columns]"
   ]
  },
  {
   "cell_type": "code",
   "execution_count": 10,
   "metadata": {},
   "outputs": [
    {
     "data": {
      "text/html": [
       "<div>\n",
       "<style scoped>\n",
       "    .dataframe tbody tr th:only-of-type {\n",
       "        vertical-align: middle;\n",
       "    }\n",
       "\n",
       "    .dataframe tbody tr th {\n",
       "        vertical-align: top;\n",
       "    }\n",
       "\n",
       "    .dataframe thead th {\n",
       "        text-align: right;\n",
       "    }\n",
       "</style>\n",
       "<table border=\"1\" class=\"dataframe\">\n",
       "  <thead>\n",
       "    <tr style=\"text-align: right;\">\n",
       "      <th></th>\n",
       "      <th>tools_programming_languages</th>\n",
       "      <th>salary_monthly_NETO</th>\n",
       "    </tr>\n",
       "  </thead>\n",
       "  <tbody>\n",
       "    <tr>\n",
       "      <th>1</th>\n",
       "      <td>CSS, HTML, Java, Javascript, SQL, TypeScript</td>\n",
       "      <td>10200000.0</td>\n",
       "    </tr>\n",
       "    <tr>\n",
       "      <th>2</th>\n",
       "      <td>SQL</td>\n",
       "      <td>3137662.0</td>\n",
       "    </tr>\n",
       "    <tr>\n",
       "      <th>4</th>\n",
       "      <td>Bash/Shell, Python</td>\n",
       "      <td>NaN</td>\n",
       "    </tr>\n",
       "    <tr>\n",
       "      <th>5</th>\n",
       "      <td>Ninguno de los anteriores</td>\n",
       "      <td>2167989.0</td>\n",
       "    </tr>\n",
       "    <tr>\n",
       "      <th>6</th>\n",
       "      <td>.NET, Python, SQL</td>\n",
       "      <td>4000000.0</td>\n",
       "    </tr>\n",
       "    <tr>\n",
       "      <th>...</th>\n",
       "      <td>...</td>\n",
       "      <td>...</td>\n",
       "    </tr>\n",
       "    <tr>\n",
       "      <th>5190</th>\n",
       "      <td>Javascript</td>\n",
       "      <td>1900000.0</td>\n",
       "    </tr>\n",
       "    <tr>\n",
       "      <th>5192</th>\n",
       "      <td>CSS, HTML, Java, Javascript, SQL</td>\n",
       "      <td>1300000.0</td>\n",
       "    </tr>\n",
       "    <tr>\n",
       "      <th>5193</th>\n",
       "      <td>Bash/Shell, Groovy, Java, Kotlin, SQL</td>\n",
       "      <td>2400000.0</td>\n",
       "    </tr>\n",
       "    <tr>\n",
       "      <th>5194</th>\n",
       "      <td>PHP, Python</td>\n",
       "      <td>4200000.0</td>\n",
       "    </tr>\n",
       "    <tr>\n",
       "      <th>5195</th>\n",
       "      <td>SQL</td>\n",
       "      <td>2040000.0</td>\n",
       "    </tr>\n",
       "  </tbody>\n",
       "</table>\n",
       "<p>4974 rows × 2 columns</p>\n",
       "</div>"
      ],
      "text/plain": [
       "                       tools_programming_languages  salary_monthly_NETO\n",
       "1     CSS, HTML, Java, Javascript, SQL, TypeScript           10200000.0\n",
       "2                                              SQL            3137662.0\n",
       "4                               Bash/Shell, Python                  NaN\n",
       "5                        Ninguno de los anteriores            2167989.0\n",
       "6                                .NET, Python, SQL            4000000.0\n",
       "...                                            ...                  ...\n",
       "5190                                    Javascript            1900000.0\n",
       "5192              CSS, HTML, Java, Javascript, SQL            1300000.0\n",
       "5193         Bash/Shell, Groovy, Java, Kotlin, SQL            2400000.0\n",
       "5194                                   PHP, Python            4200000.0\n",
       "5195                                           SQL            2040000.0\n",
       "\n",
       "[4974 rows x 2 columns]"
      ]
     },
     "execution_count": 10,
     "metadata": {},
     "output_type": "execute_result"
    }
   ],
   "source": [
    "df_1"
   ]
  },
  {
   "cell_type": "markdown",
   "metadata": {
    "id": "OoGgzMvuEocM"
   },
   "source": [
    "### Conteo de frecuencias de los lenguajes de programación\n",
    "\n",
    "La columna que contiene información sobre los lenguajes de programación utilizados es `tools_programming_languages`. Sus valores son strings con los lenguajes seleccionados separados por comas.\n",
    "\n"
   ]
  },
  {
   "cell_type": "code",
   "execution_count": null,
   "metadata": {
    "colab": {
     "base_uri": "https://localhost:8080/",
     "height": 178
    },
    "executionInfo": {
     "elapsed": 8,
     "status": "ok",
     "timestamp": 1743794896501,
     "user": {
      "displayName": "ANA GEORGINA FLESIA",
      "userId": "06600501239941405182"
     },
     "user_tz": 180
    },
    "id": "J7AB2Ty8SvNl",
    "outputId": "ffff8482-b3e2-4a91-95a0-b973db74376d"
   },
   "outputs": [
    {
     "data": {
      "text/html": [
       "<div>\n",
       "<style scoped>\n",
       "    .dataframe tbody tr th:only-of-type {\n",
       "        vertical-align: middle;\n",
       "    }\n",
       "\n",
       "    .dataframe tbody tr th {\n",
       "        vertical-align: top;\n",
       "    }\n",
       "\n",
       "    .dataframe thead th {\n",
       "        text-align: right;\n",
       "    }\n",
       "</style>\n",
       "<table border=\"1\" class=\"dataframe\">\n",
       "  <thead>\n",
       "    <tr style=\"text-align: right;\">\n",
       "      <th></th>\n",
       "      <th>tools_programming_languages</th>\n",
       "    </tr>\n",
       "  </thead>\n",
       "  <tbody>\n",
       "    <tr>\n",
       "      <th>0</th>\n",
       "      <td>Ninguno de los anteriores</td>\n",
       "    </tr>\n",
       "    <tr>\n",
       "      <th>1</th>\n",
       "      <td>CSS, HTML, Java, Javascript, SQL, TypeScript</td>\n",
       "    </tr>\n",
       "    <tr>\n",
       "      <th>2</th>\n",
       "      <td>SQL</td>\n",
       "    </tr>\n",
       "  </tbody>\n",
       "</table>\n",
       "</div><br><label><b>dtype:</b> object</label>"
      ],
      "text/plain": [
       "0                       Ninguno de los anteriores\n",
       "1    CSS, HTML, Java, Javascript, SQL, TypeScript\n",
       "2                                             SQL\n",
       "Name: tools_programming_languages, dtype: object"
      ]
     },
     "execution_count": 5,
     "metadata": {},
     "output_type": "execute_result"
    }
   ],
   "source": [
    "df.tools_programming_languages[:3]"
   ]
  },
  {
   "cell_type": "markdown",
   "metadata": {
    "id": "l8bYmvMhSroH"
   },
   "source": [
    "Las siguientes celdas de código separan estos lenguajes de programación y cuentan la frecuencia con la que aparecen.\n",
    "\n",
    "No es necesario entender este código en profundidad, aunque sí es un buen ejercicio."
   ]
  },
  {
   "cell_type": "code",
   "execution_count": 11,
   "metadata": {
    "colab": {
     "base_uri": "https://localhost:8080/",
     "height": 206
    },
    "executionInfo": {
     "elapsed": 1672,
     "status": "ok",
     "timestamp": 1743794913301,
     "user": {
      "displayName": "ANA GEORGINA FLESIA",
      "userId": "06600501239941405182"
     },
     "user_tz": 180
    },
    "id": "PAQ81x3iUP_N",
    "outputId": "7b8c41bf-9577-4678-c871-33bdd3b326fb"
   },
   "outputs": [],
   "source": [
    "# Convert the comma-separated string of languages to a list of string.\n",
    "# Remove 'ninguno de los anteriores' option, spaces and training commas.\n",
    "def split_languages(languages_str):\n",
    "    if not isinstance(languages_str, str):\n",
    "        return []\n",
    "    # Remove 'other' option\n",
    "    languages_str = languages_str.lower().replace('ninguno de los anteriores', '')\n",
    "    # Split string into list of items\n",
    "    return [\n",
    "      lang.strip().replace(',', '')\n",
    "      for lang in languages_str.split()\n",
    "    ]\n"
   ]
  },
  {
   "cell_type": "code",
   "execution_count": 12,
   "metadata": {},
   "outputs": [
    {
     "name": "stderr",
     "output_type": "stream",
     "text": [
      "/tmp/ipykernel_35198/2251228323.py:2: SettingWithCopyWarning: \n",
      "A value is trying to be set on a copy of a slice from a DataFrame.\n",
      "Try using .loc[row_indexer,col_indexer] = value instead\n",
      "\n",
      "See the caveats in the documentation: https://pandas.pydata.org/pandas-docs/stable/user_guide/indexing.html#returning-a-view-versus-a-copy\n",
      "  df_1.loc[:, 'cured_programming_languages'] = df_1.tools_programming_languages.apply(split_languages)\n"
     ]
    },
    {
     "data": {
      "text/html": [
       "<div>\n",
       "<style scoped>\n",
       "    .dataframe tbody tr th:only-of-type {\n",
       "        vertical-align: middle;\n",
       "    }\n",
       "\n",
       "    .dataframe tbody tr th {\n",
       "        vertical-align: top;\n",
       "    }\n",
       "\n",
       "    .dataframe thead th {\n",
       "        text-align: right;\n",
       "    }\n",
       "</style>\n",
       "<table border=\"1\" class=\"dataframe\">\n",
       "  <thead>\n",
       "    <tr style=\"text-align: right;\">\n",
       "      <th></th>\n",
       "      <th>programming_language</th>\n",
       "      <th>tools_programming_languages</th>\n",
       "      <th>salary_monthly_NETO</th>\n",
       "      <th>cured_programming_languages</th>\n",
       "    </tr>\n",
       "  </thead>\n",
       "  <tbody>\n",
       "    <tr>\n",
       "      <th>1</th>\n",
       "      <td>css</td>\n",
       "      <td>CSS, HTML, Java, Javascript, SQL, TypeScript</td>\n",
       "      <td>10200000.0</td>\n",
       "      <td>[css, html, java, javascript, sql, typescript]</td>\n",
       "    </tr>\n",
       "    <tr>\n",
       "      <th>1</th>\n",
       "      <td>html</td>\n",
       "      <td>CSS, HTML, Java, Javascript, SQL, TypeScript</td>\n",
       "      <td>10200000.0</td>\n",
       "      <td>[css, html, java, javascript, sql, typescript]</td>\n",
       "    </tr>\n",
       "    <tr>\n",
       "      <th>1</th>\n",
       "      <td>java</td>\n",
       "      <td>CSS, HTML, Java, Javascript, SQL, TypeScript</td>\n",
       "      <td>10200000.0</td>\n",
       "      <td>[css, html, java, javascript, sql, typescript]</td>\n",
       "    </tr>\n",
       "    <tr>\n",
       "      <th>1</th>\n",
       "      <td>javascript</td>\n",
       "      <td>CSS, HTML, Java, Javascript, SQL, TypeScript</td>\n",
       "      <td>10200000.0</td>\n",
       "      <td>[css, html, java, javascript, sql, typescript]</td>\n",
       "    </tr>\n",
       "    <tr>\n",
       "      <th>1</th>\n",
       "      <td>sql</td>\n",
       "      <td>CSS, HTML, Java, Javascript, SQL, TypeScript</td>\n",
       "      <td>10200000.0</td>\n",
       "      <td>[css, html, java, javascript, sql, typescript]</td>\n",
       "    </tr>\n",
       "  </tbody>\n",
       "</table>\n",
       "</div>"
      ],
      "text/plain": [
       "  programming_language                   tools_programming_languages  \\\n",
       "1                  css  CSS, HTML, Java, Javascript, SQL, TypeScript   \n",
       "1                 html  CSS, HTML, Java, Javascript, SQL, TypeScript   \n",
       "1                 java  CSS, HTML, Java, Javascript, SQL, TypeScript   \n",
       "1           javascript  CSS, HTML, Java, Javascript, SQL, TypeScript   \n",
       "1                  sql  CSS, HTML, Java, Javascript, SQL, TypeScript   \n",
       "\n",
       "   salary_monthly_NETO                     cured_programming_languages  \n",
       "1           10200000.0  [css, html, java, javascript, sql, typescript]  \n",
       "1           10200000.0  [css, html, java, javascript, sql, typescript]  \n",
       "1           10200000.0  [css, html, java, javascript, sql, typescript]  \n",
       "1           10200000.0  [css, html, java, javascript, sql, typescript]  \n",
       "1           10200000.0  [css, html, java, javascript, sql, typescript]  "
      ]
     },
     "execution_count": 12,
     "metadata": {},
     "output_type": "execute_result"
    }
   ],
   "source": [
    "# Create a new column with the list of languages\n",
    "df_1.loc[:, 'cured_programming_languages'] = df_1.tools_programming_languages.apply(split_languages)\n",
    "if 'cured_programming_languages' not in relevant_columns:\n",
    "    relevant_columns.append('cured_programming_languages')\n",
    "\n",
    "# Duplicate each row of df for each programming language\n",
    "# mentioned in the response.\n",
    "# We only include in df_lang the columns we are going to analyze later, so we\n",
    "# don't duplicate innecesary information.\n",
    "df_lang = df_1.cured_programming_languages.apply(\n",
    "    pd.Series\n",
    "    ).stack().reset_index(level=-1, drop=True).to_frame().join(\n",
    "        df_1[relevant_columns]\n",
    "    ).rename(columns={0: 'programming_language'})\n",
    "# Horrible programming style! But a lot of data science code can be written with\n",
    "# as concatenations of functions (pipelines), and there's no elegant way of\n",
    "# doing that on Python.\n",
    "df_lang[:5]"
   ]
  },
  {
   "cell_type": "markdown",
   "metadata": {
    "id": "qm8NUg-7UEue"
   },
   "source": [
    "En la columna `programming_language` se encuentra cada lenguaje por separado. Notar que si una respuesta contenía 3 lenguajes, como `\"HTML, Javascript, Python\"`, la fila ha sido replicada 3 veces. Por ello, hay tres filas con índice 1."
   ]
  },
  {
   "cell_type": "code",
   "execution_count": 13,
   "metadata": {
    "colab": {
     "base_uri": "https://localhost:8080/",
     "height": 363
    },
    "executionInfo": {
     "elapsed": 34,
     "status": "ok",
     "timestamp": 1743794917268,
     "user": {
      "displayName": "ANA GEORGINA FLESIA",
      "userId": "06600501239941405182"
     },
     "user_tz": 180
    },
    "id": "lNPb4tTvWCwv",
    "outputId": "495f9458-19b6-473d-8ab2-3a4eb8990b5c"
   },
   "outputs": [
    {
     "data": {
      "text/html": [
       "<div>\n",
       "<style scoped>\n",
       "    .dataframe tbody tr th:only-of-type {\n",
       "        vertical-align: middle;\n",
       "    }\n",
       "\n",
       "    .dataframe tbody tr th {\n",
       "        vertical-align: top;\n",
       "    }\n",
       "\n",
       "    .dataframe thead th {\n",
       "        text-align: right;\n",
       "    }\n",
       "</style>\n",
       "<table border=\"1\" class=\"dataframe\">\n",
       "  <thead>\n",
       "    <tr style=\"text-align: right;\">\n",
       "      <th></th>\n",
       "      <th>frequency</th>\n",
       "      <th>count</th>\n",
       "    </tr>\n",
       "  </thead>\n",
       "  <tbody>\n",
       "    <tr>\n",
       "      <th>0</th>\n",
       "      <td>sql</td>\n",
       "      <td>2213</td>\n",
       "    </tr>\n",
       "    <tr>\n",
       "      <th>1</th>\n",
       "      <td>javascript</td>\n",
       "      <td>1839</td>\n",
       "    </tr>\n",
       "    <tr>\n",
       "      <th>2</th>\n",
       "      <td>python</td>\n",
       "      <td>1623</td>\n",
       "    </tr>\n",
       "    <tr>\n",
       "      <th>3</th>\n",
       "      <td>html</td>\n",
       "      <td>1304</td>\n",
       "    </tr>\n",
       "    <tr>\n",
       "      <th>4</th>\n",
       "      <td>typescript</td>\n",
       "      <td>1034</td>\n",
       "    </tr>\n",
       "    <tr>\n",
       "      <th>5</th>\n",
       "      <td>css</td>\n",
       "      <td>915</td>\n",
       "    </tr>\n",
       "    <tr>\n",
       "      <th>6</th>\n",
       "      <td>bash/shell</td>\n",
       "      <td>865</td>\n",
       "    </tr>\n",
       "    <tr>\n",
       "      <th>7</th>\n",
       "      <td>java</td>\n",
       "      <td>828</td>\n",
       "    </tr>\n",
       "    <tr>\n",
       "      <th>8</th>\n",
       "      <td>php</td>\n",
       "      <td>601</td>\n",
       "    </tr>\n",
       "    <tr>\n",
       "      <th>9</th>\n",
       "      <td>.net</td>\n",
       "      <td>571</td>\n",
       "    </tr>\n",
       "  </tbody>\n",
       "</table>\n",
       "</div>"
      ],
      "text/plain": [
       "    frequency  count\n",
       "0         sql   2213\n",
       "1  javascript   1839\n",
       "2      python   1623\n",
       "3        html   1304\n",
       "4  typescript   1034\n",
       "5         css    915\n",
       "6  bash/shell    865\n",
       "7        java    828\n",
       "8         php    601\n",
       "9        .net    571"
      ]
     },
     "execution_count": 13,
     "metadata": {},
     "output_type": "execute_result"
    }
   ],
   "source": [
    "language_count = df_lang.programming_language.value_counts()\\\n",
    "    .reset_index()\\\n",
    "    .rename(columns={'index': 'language', 'programming_language': 'frequency'})\n",
    "language_count[:10]"
   ]
  },
  {
   "cell_type": "code",
   "execution_count": 39,
   "metadata": {},
   "outputs": [
    {
     "data": {
      "text/plain": [
       "0           sql\n",
       "1    javascript\n",
       "2        python\n",
       "3          html\n",
       "4    typescript\n",
       "5           css\n",
       "6    bash/shell\n",
       "7          java\n",
       "8           php\n",
       "9          .net\n",
       "Name: frequency, dtype: object"
      ]
     },
     "execution_count": 39,
     "metadata": {},
     "output_type": "execute_result"
    }
   ],
   "source": [
    "popular_lang = language_count.frequency[:10]\n",
    "popular_lang"
   ]
  },
  {
   "cell_type": "code",
   "execution_count": 27,
   "metadata": {},
   "outputs": [
    {
     "name": "stdout",
     "output_type": "stream",
     "text": [
      "Quantile 0.9: 4500000.0\n",
      "Quantile 0.1: 980000.0\n"
     ]
    }
   ],
   "source": [
    "#df_lang.sort_values(\"salary_monthly_NETO\", ascending=False).head(10)\n",
    "print(\"Quantile 0.9:\", df_lang[\"salary_monthly_NETO\"].quantile(0.9))\n",
    "print(\"Quantile 0.1:\", df_lang[\"salary_monthly_NETO\"].quantile(0.1))"
   ]
  },
  {
   "cell_type": "code",
   "execution_count": 32,
   "metadata": {},
   "outputs": [
    {
     "data": {
      "text/plain": [
       "programming_language\n",
       "javascript    180\n",
       "sql           176\n",
       "python        170\n",
       "typescript    127\n",
       "bash/shell     99\n",
       "html           94\n",
       "java           88\n",
       "css            65\n",
       "go             60\n",
       "php            52\n",
       "Name: count, dtype: int64"
      ]
     },
     "execution_count": 32,
     "metadata": {},
     "output_type": "execute_result"
    }
   ],
   "source": [
    "# Como se distribuyen los lenguajes de programación en los que se paga más de 4.500.000 (quantile 0.9)\n",
    "distri_mejores_pagos = df_lang[df_lang[\"salary_monthly_NETO\"] >= 4_500_000].programming_language.value_counts()\n",
    "\n",
    "distri_mejores_pagos[:10]\n"
   ]
  },
  {
   "cell_type": "code",
   "execution_count": 33,
   "metadata": {},
   "outputs": [
    {
     "data": {
      "text/plain": [
       "programming_language\n",
       "sql           236\n",
       "javascript    184\n",
       "html          159\n",
       "python        139\n",
       "css           121\n",
       "typescript     98\n",
       "java           74\n",
       "bash/shell     73\n",
       "php            63\n",
       ".net           48\n",
       "Name: count, dtype: int64"
      ]
     },
     "execution_count": 33,
     "metadata": {},
     "output_type": "execute_result"
    }
   ],
   "source": [
    "# Como se distribuyen los lenguajes de programación en los que se paga menos de 980.000 (quantile 0.1)\n",
    "distri_peores_pagos = df_lang[df_lang[\"salary_monthly_NETO\"] <= 980_000].programming_language.value_counts()[:10]\n",
    "distri_peores_pagos[:10]"
   ]
  },
  {
   "cell_type": "code",
   "execution_count": 46,
   "metadata": {},
   "outputs": [],
   "source": [
    "only_popular_lang = df_lang[df_lang.programming_language.isin(popular_lang)]\n",
    "only_popular_lang.reset_index(drop=True, inplace=True)\n"
   ]
  },
  {
   "cell_type": "code",
   "execution_count": null,
   "metadata": {},
   "outputs": [],
   "source": [
    "# comparacion de distribución\n",
    "# histograma\n",
    "# Assuming 'ProgrammingLanguage' is the column with language and 'Salary' with salary info\n",
    "# Adjust column names if needed\n",
    "g = seaborn.FacetGrid(only_popular_lang, col=\"programming_language\", col_wrap=3, sharex=False, sharey=False)\n",
    "g.map(seaborn.histplot, \"salary_monthly_NETO\", kde=True, color=\"skyblue\")\n",
    "\n",
    "g.set_titles(\"{col_name}\")\n",
    "g.set_axis_labels(\"Salary\", \"Count\")\n",
    "plt.subplots_adjust(top=0.9)\n",
    "g.figure.suptitle(\"Salary Distribution by Programming Language\")\n",
    "plt.show()"
   ]
  },
  {
   "cell_type": "markdown",
   "metadata": {
    "id": "nThbJ1KeUgDo"
   },
   "source": [
    "## Filtrado de lenguajes relevantes\n",
    "\n",
    "El siguiente código permite seleccionar sólo las filas donde el valor de la columna `programming_language` se encuentre en la lista `interesting_languages`."
   ]
  },
  {
   "cell_type": "code",
   "execution_count": null,
   "metadata": {
    "colab": {
     "base_uri": "https://localhost:8080/",
     "height": 206
    },
    "executionInfo": {
     "elapsed": 56,
     "status": "ok",
     "timestamp": 1743794923405,
     "user": {
      "displayName": "ANA GEORGINA FLESIA",
      "userId": "06600501239941405182"
     },
     "user_tz": 180
    },
    "id": "DEpVptnLZUQU",
    "outputId": "ce0fdcb8-0ba5-4755-ab2c-21203a169e01"
   },
   "outputs": [
    {
     "data": {
      "application/vnd.google.colaboratory.intrinsic+json": {
       "summary": "{\n  \"name\": \"filtered_df_lang[:5]\",\n  \"rows\": 5,\n  \"fields\": [\n    {\n      \"column\": \"programming_language\",\n      \"properties\": {\n        \"dtype\": \"category\",\n        \"num_unique_values\": 1,\n        \"samples\": [\n          \"python\"\n        ],\n        \"semantic_type\": \"\",\n        \"description\": \"\"\n      }\n    },\n    {\n      \"column\": \"tools_programming_languages\",\n      \"properties\": {\n        \"dtype\": \"string\",\n        \"num_unique_values\": 5,\n        \"samples\": [\n          \"Bash/Shell, Python\"\n        ],\n        \"semantic_type\": \"\",\n        \"description\": \"\"\n      }\n    },\n    {\n      \"column\": \"salary_monthly_NETO\",\n      \"properties\": {\n        \"dtype\": \"number\",\n        \"std\": 1169689.115489744,\n        \"min\": 1360000.0,\n        \"max\": 4000000.0,\n        \"num_unique_values\": 4,\n        \"samples\": [\n          4000000.0\n        ],\n        \"semantic_type\": \"\",\n        \"description\": \"\"\n      }\n    },\n    {\n      \"column\": \"cured_programming_languages\",\n      \"properties\": {\n        \"dtype\": \"object\",\n        \"semantic_type\": \"\",\n        \"description\": \"\"\n      }\n    }\n  ]\n}",
       "type": "dataframe"
      },
      "text/html": [
       "\n",
       "  <div id=\"df-fd51307e-4617-4190-84ff-e787cdb10f63\" class=\"colab-df-container\">\n",
       "    <div>\n",
       "<style scoped>\n",
       "    .dataframe tbody tr th:only-of-type {\n",
       "        vertical-align: middle;\n",
       "    }\n",
       "\n",
       "    .dataframe tbody tr th {\n",
       "        vertical-align: top;\n",
       "    }\n",
       "\n",
       "    .dataframe thead th {\n",
       "        text-align: right;\n",
       "    }\n",
       "</style>\n",
       "<table border=\"1\" class=\"dataframe\">\n",
       "  <thead>\n",
       "    <tr style=\"text-align: right;\">\n",
       "      <th></th>\n",
       "      <th>programming_language</th>\n",
       "      <th>tools_programming_languages</th>\n",
       "      <th>salary_monthly_NETO</th>\n",
       "      <th>cured_programming_languages</th>\n",
       "    </tr>\n",
       "  </thead>\n",
       "  <tbody>\n",
       "    <tr>\n",
       "      <th>3</th>\n",
       "      <td>python</td>\n",
       "      <td>Bash/Shell, CSS, HTML, Javascript, PHP, Python</td>\n",
       "      <td>1360000.00</td>\n",
       "      <td>[bash/shell, css, html, javascript, php, python]</td>\n",
       "    </tr>\n",
       "    <tr>\n",
       "      <th>4</th>\n",
       "      <td>python</td>\n",
       "      <td>Bash/Shell, Python</td>\n",
       "      <td>NaN</td>\n",
       "      <td>[bash/shell, python]</td>\n",
       "    </tr>\n",
       "    <tr>\n",
       "      <th>6</th>\n",
       "      <td>python</td>\n",
       "      <td>.NET, Python, SQL</td>\n",
       "      <td>4000000.00</td>\n",
       "      <td>[.net, python, sql]</td>\n",
       "    </tr>\n",
       "    <tr>\n",
       "      <th>7</th>\n",
       "      <td>python</td>\n",
       "      <td>C++, Python</td>\n",
       "      <td>3600000.00</td>\n",
       "      <td>[c++, python]</td>\n",
       "    </tr>\n",
       "    <tr>\n",
       "      <th>9</th>\n",
       "      <td>python</td>\n",
       "      <td>Bash/Shell, Python, SQL</td>\n",
       "      <td>3258576.49</td>\n",
       "      <td>[bash/shell, python, sql]</td>\n",
       "    </tr>\n",
       "  </tbody>\n",
       "</table>\n",
       "</div>\n",
       "    <div class=\"colab-df-buttons\">\n",
       "\n",
       "  <div class=\"colab-df-container\">\n",
       "    <button class=\"colab-df-convert\" onclick=\"convertToInteractive('df-fd51307e-4617-4190-84ff-e787cdb10f63')\"\n",
       "            title=\"Convert this dataframe to an interactive table.\"\n",
       "            style=\"display:none;\">\n",
       "\n",
       "  <svg xmlns=\"http://www.w3.org/2000/svg\" height=\"24px\" viewBox=\"0 -960 960 960\">\n",
       "    <path d=\"M120-120v-720h720v720H120Zm60-500h600v-160H180v160Zm220 220h160v-160H400v160Zm0 220h160v-160H400v160ZM180-400h160v-160H180v160Zm440 0h160v-160H620v160ZM180-180h160v-160H180v160Zm440 0h160v-160H620v160Z\"/>\n",
       "  </svg>\n",
       "    </button>\n",
       "\n",
       "  <style>\n",
       "    .colab-df-container {\n",
       "      display:flex;\n",
       "      gap: 12px;\n",
       "    }\n",
       "\n",
       "    .colab-df-convert {\n",
       "      background-color: #E8F0FE;\n",
       "      border: none;\n",
       "      border-radius: 50%;\n",
       "      cursor: pointer;\n",
       "      display: none;\n",
       "      fill: #1967D2;\n",
       "      height: 32px;\n",
       "      padding: 0 0 0 0;\n",
       "      width: 32px;\n",
       "    }\n",
       "\n",
       "    .colab-df-convert:hover {\n",
       "      background-color: #E2EBFA;\n",
       "      box-shadow: 0px 1px 2px rgba(60, 64, 67, 0.3), 0px 1px 3px 1px rgba(60, 64, 67, 0.15);\n",
       "      fill: #174EA6;\n",
       "    }\n",
       "\n",
       "    .colab-df-buttons div {\n",
       "      margin-bottom: 4px;\n",
       "    }\n",
       "\n",
       "    [theme=dark] .colab-df-convert {\n",
       "      background-color: #3B4455;\n",
       "      fill: #D2E3FC;\n",
       "    }\n",
       "\n",
       "    [theme=dark] .colab-df-convert:hover {\n",
       "      background-color: #434B5C;\n",
       "      box-shadow: 0px 1px 3px 1px rgba(0, 0, 0, 0.15);\n",
       "      filter: drop-shadow(0px 1px 2px rgba(0, 0, 0, 0.3));\n",
       "      fill: #FFFFFF;\n",
       "    }\n",
       "  </style>\n",
       "\n",
       "    <script>\n",
       "      const buttonEl =\n",
       "        document.querySelector('#df-fd51307e-4617-4190-84ff-e787cdb10f63 button.colab-df-convert');\n",
       "      buttonEl.style.display =\n",
       "        google.colab.kernel.accessAllowed ? 'block' : 'none';\n",
       "\n",
       "      async function convertToInteractive(key) {\n",
       "        const element = document.querySelector('#df-fd51307e-4617-4190-84ff-e787cdb10f63');\n",
       "        const dataTable =\n",
       "          await google.colab.kernel.invokeFunction('convertToInteractive',\n",
       "                                                    [key], {});\n",
       "        if (!dataTable) return;\n",
       "\n",
       "        const docLinkHtml = 'Like what you see? Visit the ' +\n",
       "          '<a target=\"_blank\" href=https://colab.research.google.com/notebooks/data_table.ipynb>data table notebook</a>'\n",
       "          + ' to learn more about interactive tables.';\n",
       "        element.innerHTML = '';\n",
       "        dataTable['output_type'] = 'display_data';\n",
       "        await google.colab.output.renderOutput(dataTable, element);\n",
       "        const docLink = document.createElement('div');\n",
       "        docLink.innerHTML = docLinkHtml;\n",
       "        element.appendChild(docLink);\n",
       "      }\n",
       "    </script>\n",
       "  </div>\n",
       "\n",
       "\n",
       "<div id=\"df-1d06d3c9-ef04-431b-9864-e1899cbe4a37\">\n",
       "  <button class=\"colab-df-quickchart\" onclick=\"quickchart('df-1d06d3c9-ef04-431b-9864-e1899cbe4a37')\"\n",
       "            title=\"Suggest charts\"\n",
       "            style=\"display:none;\">\n",
       "\n",
       "<svg xmlns=\"http://www.w3.org/2000/svg\" height=\"24px\"viewBox=\"0 0 24 24\"\n",
       "     width=\"24px\">\n",
       "    <g>\n",
       "        <path d=\"M19 3H5c-1.1 0-2 .9-2 2v14c0 1.1.9 2 2 2h14c1.1 0 2-.9 2-2V5c0-1.1-.9-2-2-2zM9 17H7v-7h2v7zm4 0h-2V7h2v10zm4 0h-2v-4h2v4z\"/>\n",
       "    </g>\n",
       "</svg>\n",
       "  </button>\n",
       "\n",
       "<style>\n",
       "  .colab-df-quickchart {\n",
       "      --bg-color: #E8F0FE;\n",
       "      --fill-color: #1967D2;\n",
       "      --hover-bg-color: #E2EBFA;\n",
       "      --hover-fill-color: #174EA6;\n",
       "      --disabled-fill-color: #AAA;\n",
       "      --disabled-bg-color: #DDD;\n",
       "  }\n",
       "\n",
       "  [theme=dark] .colab-df-quickchart {\n",
       "      --bg-color: #3B4455;\n",
       "      --fill-color: #D2E3FC;\n",
       "      --hover-bg-color: #434B5C;\n",
       "      --hover-fill-color: #FFFFFF;\n",
       "      --disabled-bg-color: #3B4455;\n",
       "      --disabled-fill-color: #666;\n",
       "  }\n",
       "\n",
       "  .colab-df-quickchart {\n",
       "    background-color: var(--bg-color);\n",
       "    border: none;\n",
       "    border-radius: 50%;\n",
       "    cursor: pointer;\n",
       "    display: none;\n",
       "    fill: var(--fill-color);\n",
       "    height: 32px;\n",
       "    padding: 0;\n",
       "    width: 32px;\n",
       "  }\n",
       "\n",
       "  .colab-df-quickchart:hover {\n",
       "    background-color: var(--hover-bg-color);\n",
       "    box-shadow: 0 1px 2px rgba(60, 64, 67, 0.3), 0 1px 3px 1px rgba(60, 64, 67, 0.15);\n",
       "    fill: var(--button-hover-fill-color);\n",
       "  }\n",
       "\n",
       "  .colab-df-quickchart-complete:disabled,\n",
       "  .colab-df-quickchart-complete:disabled:hover {\n",
       "    background-color: var(--disabled-bg-color);\n",
       "    fill: var(--disabled-fill-color);\n",
       "    box-shadow: none;\n",
       "  }\n",
       "\n",
       "  .colab-df-spinner {\n",
       "    border: 2px solid var(--fill-color);\n",
       "    border-color: transparent;\n",
       "    border-bottom-color: var(--fill-color);\n",
       "    animation:\n",
       "      spin 1s steps(1) infinite;\n",
       "  }\n",
       "\n",
       "  @keyframes spin {\n",
       "    0% {\n",
       "      border-color: transparent;\n",
       "      border-bottom-color: var(--fill-color);\n",
       "      border-left-color: var(--fill-color);\n",
       "    }\n",
       "    20% {\n",
       "      border-color: transparent;\n",
       "      border-left-color: var(--fill-color);\n",
       "      border-top-color: var(--fill-color);\n",
       "    }\n",
       "    30% {\n",
       "      border-color: transparent;\n",
       "      border-left-color: var(--fill-color);\n",
       "      border-top-color: var(--fill-color);\n",
       "      border-right-color: var(--fill-color);\n",
       "    }\n",
       "    40% {\n",
       "      border-color: transparent;\n",
       "      border-right-color: var(--fill-color);\n",
       "      border-top-color: var(--fill-color);\n",
       "    }\n",
       "    60% {\n",
       "      border-color: transparent;\n",
       "      border-right-color: var(--fill-color);\n",
       "    }\n",
       "    80% {\n",
       "      border-color: transparent;\n",
       "      border-right-color: var(--fill-color);\n",
       "      border-bottom-color: var(--fill-color);\n",
       "    }\n",
       "    90% {\n",
       "      border-color: transparent;\n",
       "      border-bottom-color: var(--fill-color);\n",
       "    }\n",
       "  }\n",
       "</style>\n",
       "\n",
       "  <script>\n",
       "    async function quickchart(key) {\n",
       "      const quickchartButtonEl =\n",
       "        document.querySelector('#' + key + ' button');\n",
       "      quickchartButtonEl.disabled = true;  // To prevent multiple clicks.\n",
       "      quickchartButtonEl.classList.add('colab-df-spinner');\n",
       "      try {\n",
       "        const charts = await google.colab.kernel.invokeFunction(\n",
       "            'suggestCharts', [key], {});\n",
       "      } catch (error) {\n",
       "        console.error('Error during call to suggestCharts:', error);\n",
       "      }\n",
       "      quickchartButtonEl.classList.remove('colab-df-spinner');\n",
       "      quickchartButtonEl.classList.add('colab-df-quickchart-complete');\n",
       "    }\n",
       "    (() => {\n",
       "      let quickchartButtonEl =\n",
       "        document.querySelector('#df-1d06d3c9-ef04-431b-9864-e1899cbe4a37 button');\n",
       "      quickchartButtonEl.style.display =\n",
       "        google.colab.kernel.accessAllowed ? 'block' : 'none';\n",
       "    })();\n",
       "  </script>\n",
       "</div>\n",
       "\n",
       "    </div>\n",
       "  </div>\n"
      ],
      "text/plain": [
       "  programming_language                     tools_programming_languages  \\\n",
       "3               python  Bash/Shell, CSS, HTML, Javascript, PHP, Python   \n",
       "4               python                              Bash/Shell, Python   \n",
       "6               python                               .NET, Python, SQL   \n",
       "7               python                                     C++, Python   \n",
       "9               python                         Bash/Shell, Python, SQL   \n",
       "\n",
       "   salary_monthly_NETO                       cured_programming_languages  \n",
       "3           1360000.00  [bash/shell, css, html, javascript, php, python]  \n",
       "4                  NaN                              [bash/shell, python]  \n",
       "6           4000000.00                               [.net, python, sql]  \n",
       "7           3600000.00                                     [c++, python]  \n",
       "9           3258576.49                         [bash/shell, python, sql]  "
      ]
     },
     "execution_count": 9,
     "metadata": {},
     "output_type": "execute_result"
    }
   ],
   "source": [
    "# Filter out languages that we want to exclude\n",
    "# Complete here with your selected list.\n",
    "interesting_languages = [\"python\"]\n",
    "filtered_df_lang = df_lang[df_lang.programming_language.isin(interesting_languages)]\n",
    "filtered_df_lang[:5]"
   ]
  },
  {
   "cell_type": "markdown",
   "metadata": {
    "id": "tWo8SmmC9FAk"
   },
   "source": [
    "# Ejercicio 2 - Densidades y varias variables\n",
    "\n",
    "Responder a la pregunta general: **¿Que herramientas (prácticas y teóricas) són útiles para explorar la base, descubrir patrones, asociaciones?**\n",
    "\n",
    "Para ello considere (igual al ejercicio Anterior):\n",
    "1. Seleccionar las columnas relevantes para analizar.\n",
    "2. Seleccionar las filas relevantes para analizar. Esto incluye la eliminación de valores extremos y erróneos, pero también puede enfocar el análisis en sub-poblaciones."
   ]
  },
  {
   "cell_type": "markdown",
   "metadata": {
    "id": "5baYhH0XHM3S"
   },
   "source": [
    "## a) Densidad conjunta\n",
    "\n",
    "Que herramientas visuales y modelos puede utilizar para estudiar la distribución y comportamiento de sus datos?\n",
    "\n",
    "Elija tres variables numéricas y 2 variables categóricas. Visualice la base según varias de las variables elegidas. Puede describir de alguna forma el comportamiento de sus datos? Que herramientas utilizaría? Describa\n",
    "\n",
    "\n"
   ]
  },
  {
   "cell_type": "markdown",
   "metadata": {
    "id": "lkuHE2aZGHMO"
   },
   "source": [
    "## b) Asociación\n",
    "\n",
    "* Necesitamos decidir si sacar o no la columna de salario bruto. Para hacer la encuesta más simple.\n",
    "¿Existe una correlación entre el salario bruto y el neto? Que abordaje y medidas usaría\n",
    "\n"
   ]
  },
  {
   "cell_type": "markdown",
   "metadata": {
    "id": "7MZrbRJCm-ae"
   },
   "source": [
    "## c) Densidad condicional\n",
    "\n",
    "Estudie la distribución del salario según el nivel de estudio.\n",
    "\n",
    "Separe la población según el nivel de estudio (elija dos subpoblaciones numerosas) y grafique de manera comparativa ambos histogramas de la variable `'salary_monthly_NETO'`\n",
    "¿Considera que ambas variables son independientes?\n",
    "¿Qué analizaría al respecto?\n",
    "\n",
    "Calcule medidas de centralización y dispersión para cada subpoblación\n",
    "\n",
    "\n",
    "\n",
    "\n"
   ]
  },
  {
   "cell_type": "markdown",
   "metadata": {
    "id": "u8wgYxNiqVpE"
   },
   "source": [
    "## d) Densidad Conjunta condicional\n",
    "\n",
    "Elija dos variables numéricas y una categórica.\n",
    "Estudie la dispersión (scatterplot) de las dos variables discriminando en color por la variable categórica (ayuda: hue en seaborn)\n"
   ]
  }
 ],
 "metadata": {
  "colab": {
   "provenance": [
    {
     "file_id": "15C9I4FtEwqD7-sxtB-psEB8B5q2iM7rg",
     "timestamp": 1744499300391
    },
    {
     "file_id": "1NXWXyebR6mzAabyOPqghXpZQdyy05cRV",
     "timestamp": 1680785357097
    },
    {
     "file_id": "1OZLULlr-RkXwyhar7ED5fcXmPdgc6tGb",
     "timestamp": 1617224538047
    },
    {
     "file_id": "1xPL68eVaR0UF7XTcLU1rCMfpzuS7r6s0",
     "timestamp": 1617223947184
    },
    {
     "file_id": "1bChseZSrdGJSXfa-D2_lS0dx98wplQtD",
     "timestamp": 1614968149245
    }
   ]
  },
  "kernelspec": {
   "display_name": ".venv",
   "language": "python",
   "name": "python3"
  },
  "language_info": {
   "codemirror_mode": {
    "name": "ipython",
    "version": 3
   },
   "file_extension": ".py",
   "mimetype": "text/x-python",
   "name": "python",
   "nbconvert_exporter": "python",
   "pygments_lexer": "ipython3",
   "version": "3.13.3"
  }
 },
 "nbformat": 4,
 "nbformat_minor": 0
}
